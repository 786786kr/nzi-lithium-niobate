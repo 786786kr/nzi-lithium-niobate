{
 "cells": [
  {
   "cell_type": "code",
   "execution_count": 3,
   "metadata": {},
   "outputs": [
    {
     "name": "stdout",
     "output_type": "stream",
     "text": [
      "Using MPI version 3.1, 1 processes\n"
     ]
    }
   ],
   "source": [
    "from photonic_crystal import Crystal2D, CrystalSlab\n",
    "import math\n",
    "import meep as mp\n",
    "from meep import mpb"
   ]
  },
  {
   "cell_type": "markdown",
   "metadata": {},
   "source": [
    "### Material parameters"
   ]
  },
  {
   "cell_type": "code",
   "execution_count": 4,
   "metadata": {},
   "outputs": [],
   "source": [
    "eps_diag = mp.Vector3()\n",
    "eps_offdiag = mp.Vector3(0.1, 0.1, 0.1)\n",
    "E_chi2_diag = mp.Vector3(0.0, 0.0, 0.0)\n",
    "E_chi3_diag = mp.Vector3(0.0, 0.0, 0.0)\n",
    "eps_atom = 1\n",
    "eps_background = 1\n",
    "\n"
   ]
  },
  {
   "cell_type": "markdown",
   "metadata": {},
   "source": [
    "### Geometry Parameters"
   ]
  },
  {
   "cell_type": "code",
   "execution_count": 6,
   "metadata": {},
   "outputs": [
    {
     "ename": "TypeError",
     "evalue": "CrystalSlab.advanced_material_geometry() got an unexpected keyword argument 'chi3_offdiag'",
     "output_type": "error",
     "traceback": [
      "\u001b[0;31m---------------------------------------------------------------------------\u001b[0m",
      "\u001b[0;31mTypeError\u001b[0m                                 Traceback (most recent call last)",
      "Cell \u001b[0;32mIn[6], line 5\u001b[0m\n\u001b[1;32m      2\u001b[0m h_supercell \u001b[38;5;241m=\u001b[39m \u001b[38;5;241m4\u001b[39m\n\u001b[1;32m      3\u001b[0m radius_1 \u001b[38;5;241m=\u001b[39m \u001b[38;5;241m0.2\u001b[39m\n\u001b[0;32m----> 5\u001b[0m geometry \u001b[38;5;241m=\u001b[39m \u001b[43mCrystalSlab\u001b[49m\u001b[38;5;241;43m.\u001b[39;49m\u001b[43madvanced_material_geometry\u001b[49m\u001b[43m(\u001b[49m\n\u001b[1;32m      6\u001b[0m \u001b[43m    \u001b[49m\u001b[43mradius_1\u001b[49m\u001b[38;5;241;43m=\u001b[39;49m\u001b[43m \u001b[49m\u001b[43mradius_1\u001b[49m\u001b[43m,\u001b[49m\n\u001b[1;32m      7\u001b[0m \u001b[43m    \u001b[49m\u001b[43mepsilon_diag\u001b[49m\u001b[38;5;241;43m=\u001b[39;49m\u001b[43meps_diag\u001b[49m\u001b[43m,\u001b[49m\n\u001b[1;32m      8\u001b[0m \u001b[43m    \u001b[49m\u001b[43mepsilon_offdiag\u001b[49m\u001b[38;5;241;43m=\u001b[39;49m\u001b[43meps_offdiag\u001b[49m\u001b[43m,\u001b[49m\n\u001b[1;32m      9\u001b[0m \u001b[43m    \u001b[49m\u001b[43mchi2_diag\u001b[49m\u001b[38;5;241;43m=\u001b[39;49m\u001b[43mE_chi2_diag\u001b[49m\u001b[43m,\u001b[49m\n\u001b[1;32m     10\u001b[0m \u001b[43m    \u001b[49m\u001b[43mchi3_offdiag\u001b[49m\u001b[38;5;241;43m=\u001b[39;49m\u001b[43mE_chi3_offdiag\u001b[49m\u001b[43m,\u001b[49m\n\u001b[1;32m     11\u001b[0m \u001b[43m    \u001b[49m\u001b[43mh_slab\u001b[49m\u001b[38;5;241;43m=\u001b[39;49m\u001b[43mh_slab\u001b[49m\u001b[43m,\u001b[49m\n\u001b[1;32m     12\u001b[0m \u001b[43m    \u001b[49m\u001b[43mh_supercell\u001b[49m\u001b[38;5;241;43m=\u001b[39;49m\u001b[43mh_supercell\u001b[49m\u001b[43m,\u001b[49m\n\u001b[1;32m     13\u001b[0m \u001b[43m    \u001b[49m\u001b[43meps_atom\u001b[49m\u001b[38;5;241;43m=\u001b[39;49m\u001b[43meps_atom\u001b[49m\u001b[43m,\u001b[49m\n\u001b[1;32m     14\u001b[0m \u001b[43m    \u001b[49m\u001b[43meps_background\u001b[49m\u001b[38;5;241;43m=\u001b[39;49m\u001b[43meps_background\u001b[49m\u001b[43m,\u001b[49m\n\u001b[1;32m     15\u001b[0m \u001b[43m)\u001b[49m\n",
      "\u001b[0;31mTypeError\u001b[0m: CrystalSlab.advanced_material_geometry() got an unexpected keyword argument 'chi3_offdiag'"
     ]
    }
   ],
   "source": [
    "h_slab = 0.5\n",
    "h_supercell = 4\n",
    "radius_1 = 0.2\n",
    "\n",
    "geometry = CrystalSlab.advanced_material_geometry(\n",
    "    radius_1= radius_1,\n",
    "    epsilon_diag=eps_diag,\n",
    "    epsilon_offdiag=eps_offdiag,\n",
    "    chi2_diag=E_chi2_diag,\n",
    "    chi3_diag=E_chi3_diag,\n",
    "    h_slab=h_slab,\n",
    "    h_supercell=h_supercell,\n",
    "    eps_atom=eps_atom,\n",
    "    eps_background=eps_background,\n",
    ")"
   ]
  },
  {
   "cell_type": "markdown",
   "metadata": {},
   "source": [
    "### SImulation Parameters\n"
   ]
  },
  {
   "cell_type": "code",
   "execution_count": null,
   "metadata": {},
   "outputs": [],
   "source": [
    "num_bands = 8\n",
    "interp = 4\n",
    "resolution = 32\n"
   ]
  },
  {
   "cell_type": "code",
   "execution_count": 1,
   "metadata": {},
   "outputs": [
    {
     "ename": "NameError",
     "evalue": "name 'Crystal2D' is not defined",
     "output_type": "error",
     "traceback": [
      "\u001b[0;31m---------------------------------------------------------------------------\u001b[0m",
      "\u001b[0;31mNameError\u001b[0m                                 Traceback (most recent call last)",
      "Cell \u001b[0;32mIn[1], line 1\u001b[0m\n\u001b[0;32m----> 1\u001b[0m pc \u001b[38;5;241m=\u001b[39m \u001b[43mCrystal2D\u001b[49m(lattice_type\u001b[38;5;241m=\u001b[39m\u001b[38;5;124m'\u001b[39m\u001b[38;5;124msquare\u001b[39m\u001b[38;5;124m'\u001b[39m)\n\u001b[1;32m      3\u001b[0m fig \u001b[38;5;241m=\u001b[39m pc\u001b[38;5;241m.\u001b[39mplot_epsilon_interactive()\n\u001b[1;32m      4\u001b[0m fig\u001b[38;5;241m.\u001b[39mshow()\n",
      "\u001b[0;31mNameError\u001b[0m: name 'Crystal2D' is not defined"
     ]
    }
   ],
   "source": [
    "pc = Crystal2D(lattice_type='square')\n",
    "\n",
    "fig = pc.plot_epsilon_interactive()\n",
    "fig.show()\n"
   ]
  }
 ],
 "metadata": {
  "kernelspec": {
   "display_name": "Python 3",
   "language": "python",
   "name": "python3"
  },
  "language_info": {
   "codemirror_mode": {
    "name": "ipython",
    "version": 3
   },
   "file_extension": ".py",
   "mimetype": "text/x-python",
   "name": "python",
   "nbconvert_exporter": "python",
   "pygments_lexer": "ipython3",
   "version": "3.10.12"
  }
 },
 "nbformat": 4,
 "nbformat_minor": 2
}
